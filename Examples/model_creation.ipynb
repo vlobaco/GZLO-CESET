{
 "cells": [
  {
   "cell_type": "markdown",
   "metadata": {},
   "source": [
    "# Model Generation"
   ]
  },
  {
   "cell_type": "markdown",
   "metadata": {},
   "source": [
    "## Splitting the dataset into train and test"
   ]
  },
  {
   "cell_type": "code",
   "execution_count": 2,
   "metadata": {},
   "outputs": [
    {
     "data": {
      "text/html": [
       "<div>\n",
       "<style scoped>\n",
       "    .dataframe tbody tr th:only-of-type {\n",
       "        vertical-align: middle;\n",
       "    }\n",
       "\n",
       "    .dataframe tbody tr th {\n",
       "        vertical-align: top;\n",
       "    }\n",
       "\n",
       "    .dataframe thead th {\n",
       "        text-align: right;\n",
       "    }\n",
       "</style>\n",
       "<table border=\"1\" class=\"dataframe\">\n",
       "  <thead>\n",
       "    <tr style=\"text-align: right;\">\n",
       "      <th></th>\n",
       "      <th>file_name</th>\n",
       "      <th>area</th>\n",
       "      <th>doc_type</th>\n",
       "      <th>operation</th>\n",
       "      <th>raw_text</th>\n",
       "      <th>tokens</th>\n",
       "      <th>clean_text</th>\n",
       "    </tr>\n",
       "  </thead>\n",
       "  <tbody>\n",
       "    <tr>\n",
       "      <th>0</th>\n",
       "      <td>009_SITREP_EUMAM_SQUAD_COMMANDER_27MAR24.pdf</td>\n",
       "      <td>UCRANIA</td>\n",
       "      <td>SITREP</td>\n",
       "      <td>SQUAD CMDR</td>\n",
       "      <td>SITREP TTCC SITREP Nº GFH: ASUNTO: MODULO SQUA...</td>\n",
       "      <td>[sitrep, ttcc, sitrep, nº, gfh, asunto, modulo...</td>\n",
       "      <td>sitrep ttcc sitrep nº gfh asunto modulo squad ...</td>\n",
       "    </tr>\n",
       "    <tr>\n",
       "      <th>1</th>\n",
       "      <td>015_SITREP_EUMAM_SQUAD_COMMANDER_04ABR24.pdf</td>\n",
       "      <td>UCRANIA</td>\n",
       "      <td>SITREP</td>\n",
       "      <td>SQUAD CMDR</td>\n",
       "      <td>SITREP TTCC SITREP Nº GFH: ASUNTO: MODULO SQUA...</td>\n",
       "      <td>[sitrep, ttcc, sitrep, nº, gfh, asunto, modulo...</td>\n",
       "      <td>sitrep ttcc sitrep nº gfh asunto modulo squad ...</td>\n",
       "    </tr>\n",
       "    <tr>\n",
       "      <th>2</th>\n",
       "      <td>011_SITREP_EUMAM_SQUAD_COMMANDER_29MAR24-31MAR...</td>\n",
       "      <td>UCRANIA</td>\n",
       "      <td>SITREP</td>\n",
       "      <td>SQUAD CMDR</td>\n",
       "      <td>SITREP TTCC SITREP Nº GFH: ASUNTO: MODULO SQUA...</td>\n",
       "      <td>[sitrep, ttcc, sitrep, nº, gfh, asunto, modulo...</td>\n",
       "      <td>sitrep ttcc sitrep nº gfh asunto modulo squad ...</td>\n",
       "    </tr>\n",
       "  </tbody>\n",
       "</table>\n",
       "</div>"
      ],
      "text/plain": [
       "                                           file_name     area doc_type  \\\n",
       "0       009_SITREP_EUMAM_SQUAD_COMMANDER_27MAR24.pdf  UCRANIA   SITREP   \n",
       "1       015_SITREP_EUMAM_SQUAD_COMMANDER_04ABR24.pdf  UCRANIA   SITREP   \n",
       "2  011_SITREP_EUMAM_SQUAD_COMMANDER_29MAR24-31MAR...  UCRANIA   SITREP   \n",
       "\n",
       "    operation                                           raw_text  \\\n",
       "0  SQUAD CMDR  SITREP TTCC SITREP Nº GFH: ASUNTO: MODULO SQUA...   \n",
       "1  SQUAD CMDR  SITREP TTCC SITREP Nº GFH: ASUNTO: MODULO SQUA...   \n",
       "2  SQUAD CMDR  SITREP TTCC SITREP Nº GFH: ASUNTO: MODULO SQUA...   \n",
       "\n",
       "                                              tokens  \\\n",
       "0  [sitrep, ttcc, sitrep, nº, gfh, asunto, modulo...   \n",
       "1  [sitrep, ttcc, sitrep, nº, gfh, asunto, modulo...   \n",
       "2  [sitrep, ttcc, sitrep, nº, gfh, asunto, modulo...   \n",
       "\n",
       "                                          clean_text  \n",
       "0  sitrep ttcc sitrep nº gfh asunto modulo squad ...  \n",
       "1  sitrep ttcc sitrep nº gfh asunto modulo squad ...  \n",
       "2  sitrep ttcc sitrep nº gfh asunto modulo squad ...  "
      ]
     },
     "execution_count": 2,
     "metadata": {},
     "output_type": "execute_result"
    }
   ],
   "source": [
    "import pandas as pd\n",
    "\n",
    "df = pd.read_pickle(\"../data/datasets/full.pkl\")\n",
    "df.head(3)"
   ]
  },
  {
   "cell_type": "markdown",
   "metadata": {},
   "source": [
    "## Generation of models"
   ]
  },
  {
   "cell_type": "code",
   "execution_count": 17,
   "metadata": {},
   "outputs": [],
   "source": [
    "from model_creation import create_model\n",
    "from joblib import dump, load"
   ]
  },
  {
   "cell_type": "markdown",
   "metadata": {},
   "source": [
    "### Generation of the model for the document type"
   ]
  },
  {
   "cell_type": "code",
   "execution_count": 11,
   "metadata": {},
   "outputs": [
    {
     "name": "stdout",
     "output_type": "stream",
     "text": [
      "              precision    recall  f1-score   support\n",
      "\n",
      "      INTSUM       1.00      1.00      1.00        30\n",
      "      SITREP       1.00      1.00      1.00       101\n",
      "\n",
      "    accuracy                           1.00       131\n",
      "   macro avg       1.00      1.00      1.00       131\n",
      "weighted avg       1.00      1.00      1.00       131\n",
      "\n"
     ]
    }
   ],
   "source": [
    "model_doc_type, evaluation = create_model(df, \"doc_type\", \"clean_text\")\n",
    "print(evaluation)"
   ]
  },
  {
   "cell_type": "code",
   "execution_count": 19,
   "metadata": {},
   "outputs": [
    {
     "data": {
      "text/plain": [
       "['../data/models/doc_type.pkl']"
      ]
     },
     "execution_count": 19,
     "metadata": {},
     "output_type": "execute_result"
    }
   ],
   "source": [
    "dump(model_doc_type, '../data/models/doc_type.pkl') "
   ]
  },
  {
   "cell_type": "markdown",
   "metadata": {},
   "source": [
    "### Generation of the model for the area"
   ]
  },
  {
   "cell_type": "code",
   "execution_count": 12,
   "metadata": {},
   "outputs": [
    {
     "name": "stdout",
     "output_type": "stream",
     "text": [
      "              precision    recall  f1-score   support\n",
      "\n",
      "    COLOMBIA       1.00      1.00      1.00         4\n",
      "     ESTONIA       1.00      1.00      1.00         5\n",
      "        IRAK       0.96      1.00      0.98        26\n",
      "     LETONIA       1.00      0.94      0.97        16\n",
      "      LIBANO       1.00      1.00      1.00        10\n",
      "        MALI       1.00      1.00      1.00         9\n",
      "  MAURITANIA       1.00      1.00      1.00         5\n",
      "  MOZAMBIQUE       1.00      1.00      1.00         5\n",
      "       NIGER       1.00      1.00      1.00         3\n",
      "         RCA       1.00      1.00      1.00         4\n",
      "     SENEGAL       1.00      1.00      1.00         4\n",
      "     SOMALIA       1.00      1.00      1.00         6\n",
      "    TURQUÍA       1.00      1.00      1.00         9\n",
      "     UCRANIA       1.00      1.00      1.00        25\n",
      "\n",
      "    accuracy                           0.99       131\n",
      "   macro avg       1.00      1.00      1.00       131\n",
      "weighted avg       0.99      0.99      0.99       131\n",
      "\n"
     ]
    }
   ],
   "source": [
    "model_area, evaluation = create_model(df, \"area\", \"clean_text\")\n",
    "print(evaluation)"
   ]
  },
  {
   "cell_type": "code",
   "execution_count": 20,
   "metadata": {},
   "outputs": [
    {
     "data": {
      "text/plain": [
       "['../data/models/area.pkl']"
      ]
     },
     "execution_count": 20,
     "metadata": {},
     "output_type": "execute_result"
    }
   ],
   "source": [
    "dump(model_area, '../data/models/area.pkl')"
   ]
  },
  {
   "cell_type": "markdown",
   "metadata": {},
   "source": [
    "### Generation of the model for the operation"
   ]
  },
  {
   "cell_type": "code",
   "execution_count": 13,
   "metadata": {},
   "outputs": [
    {
     "name": "stdout",
     "output_type": "stream",
     "text": [
      "              precision    recall  f1-score   support\n",
      "\n",
      "    COLOMBIA       1.00      1.00      1.00         4\n",
      "     ESTONIA       1.00      1.00      1.00         5\n",
      "        IRAK       0.96      1.00      0.98        26\n",
      "     LETONIA       1.00      0.94      0.97        16\n",
      "      LIBANO       1.00      1.00      1.00        10\n",
      "        MALI       1.00      1.00      1.00         9\n",
      "  MAURITANIA       1.00      1.00      1.00         5\n",
      "  MOZAMBIQUE       1.00      1.00      1.00         5\n",
      "       NIGER       1.00      1.00      1.00         3\n",
      "         RCA       1.00      1.00      1.00         4\n",
      "     SENEGAL       1.00      1.00      1.00         4\n",
      "     SOMALIA       1.00      1.00      1.00         6\n",
      "    TURQUÍA       1.00      1.00      1.00         9\n",
      "     UCRANIA       1.00      1.00      1.00        25\n",
      "\n",
      "    accuracy                           0.99       131\n",
      "   macro avg       1.00      1.00      1.00       131\n",
      "weighted avg       0.99      0.99      0.99       131\n",
      "\n"
     ]
    }
   ],
   "source": [
    "model_operation = create_model(df, \"operation\", \"clean_text\")\n",
    "print(evaluation)"
   ]
  },
  {
   "cell_type": "code",
   "execution_count": 21,
   "metadata": {},
   "outputs": [
    {
     "data": {
      "text/plain": [
       "['../data/models/operation.pkl']"
      ]
     },
     "execution_count": 21,
     "metadata": {},
     "output_type": "execute_result"
    }
   ],
   "source": [
    "dump(model_operation, '../data/models/operation.pkl')"
   ]
  }
 ],
 "metadata": {
  "kernelspec": {
   "display_name": "Python 3",
   "language": "python",
   "name": "python3"
  },
  "language_info": {
   "codemirror_mode": {
    "name": "ipython",
    "version": 3
   },
   "file_extension": ".py",
   "mimetype": "text/x-python",
   "name": "python",
   "nbconvert_exporter": "python",
   "pygments_lexer": "ipython3",
   "version": "3.12.3"
  }
 },
 "nbformat": 4,
 "nbformat_minor": 2
}
